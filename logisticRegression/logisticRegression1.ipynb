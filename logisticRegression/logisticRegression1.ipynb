{
  "nbformat": 4,
  "nbformat_minor": 0,
  "metadata": {
    "colab": {
      "name": "logisticRegression1.ipynb",
      "version": "0.3.2",
      "provenance": [],
      "collapsed_sections": []
    },
    "kernelspec": {
      "name": "python3",
      "display_name": "Python 3"
    }
  },
  "cells": [
    {
      "metadata": {
        "id": "-nsDyBxei-xo",
        "colab_type": "code",
        "colab": {}
      },
      "cell_type": "code",
      "source": [
        "from sklearn.model_selection import train_test_split\n",
        "import numpy as np\n",
        "import pandas as pd"
      ],
      "execution_count": 0,
      "outputs": []
    },
    {
      "metadata": {
        "id": "pKv_g5zCjEwS",
        "colab_type": "code",
        "colab": {
          "base_uri": "https://localhost:8080/",
          "height": 196
        },
        "outputId": "0a907d4b-106a-49a2-d378-5e0c9ffae233"
      },
      "cell_type": "code",
      "source": [
        "!wget https://raw.githubusercontent.com/susanli2016/Machine-Learning-with-Python/master/diabetes.csv"
      ],
      "execution_count": 79,
      "outputs": [
        {
          "output_type": "stream",
          "text": [
            "--2018-10-19 00:52:55--  https://raw.githubusercontent.com/susanli2016/Machine-Learning-with-Python/master/diabetes.csv\n",
            "Resolving raw.githubusercontent.com (raw.githubusercontent.com)... 151.101.0.133, 151.101.64.133, 151.101.128.133, ...\n",
            "Connecting to raw.githubusercontent.com (raw.githubusercontent.com)|151.101.0.133|:443... connected.\n",
            "HTTP request sent, awaiting response... 200 OK\n",
            "Length: 23875 (23K) [text/plain]\n",
            "Saving to: ‘diabetes.csv’\n",
            "\n",
            "\rdiabetes.csv          0%[                    ]       0  --.-KB/s               \rdiabetes.csv        100%[===================>]  23.32K  --.-KB/s    in 0.01s   \n",
            "\n",
            "2018-10-19 00:52:55 (1.63 MB/s) - ‘diabetes.csv’ saved [23875/23875]\n",
            "\n"
          ],
          "name": "stdout"
        }
      ]
    },
    {
      "metadata": {
        "id": "C4QsFqNejGRx",
        "colab_type": "code",
        "colab": {}
      },
      "cell_type": "code",
      "source": [
        "dataset = pd.read_csv(\"diabetes.csv\")"
      ],
      "execution_count": 0,
      "outputs": []
    },
    {
      "metadata": {
        "id": "7EspFOIUjHdw",
        "colab_type": "code",
        "colab": {
          "base_uri": "https://localhost:8080/",
          "height": 191
        },
        "outputId": "3ae4ac6e-d013-4718-9aa0-d21ffbe066a3"
      },
      "cell_type": "code",
      "source": [
        "dataset.head()"
      ],
      "execution_count": 82,
      "outputs": [
        {
          "output_type": "execute_result",
          "data": {
            "text/html": [
              "<div>\n",
              "<style scoped>\n",
              "    .dataframe tbody tr th:only-of-type {\n",
              "        vertical-align: middle;\n",
              "    }\n",
              "\n",
              "    .dataframe tbody tr th {\n",
              "        vertical-align: top;\n",
              "    }\n",
              "\n",
              "    .dataframe thead th {\n",
              "        text-align: right;\n",
              "    }\n",
              "</style>\n",
              "<table border=\"1\" class=\"dataframe\">\n",
              "  <thead>\n",
              "    <tr style=\"text-align: right;\">\n",
              "      <th></th>\n",
              "      <th>Pregnancies</th>\n",
              "      <th>Glucose</th>\n",
              "      <th>BloodPressure</th>\n",
              "      <th>SkinThickness</th>\n",
              "      <th>Insulin</th>\n",
              "      <th>BMI</th>\n",
              "      <th>DiabetesPedigreeFunction</th>\n",
              "      <th>Age</th>\n",
              "      <th>Outcome</th>\n",
              "    </tr>\n",
              "  </thead>\n",
              "  <tbody>\n",
              "    <tr>\n",
              "      <th>0</th>\n",
              "      <td>6</td>\n",
              "      <td>148</td>\n",
              "      <td>72</td>\n",
              "      <td>35</td>\n",
              "      <td>0</td>\n",
              "      <td>33.6</td>\n",
              "      <td>0.627</td>\n",
              "      <td>50</td>\n",
              "      <td>1</td>\n",
              "    </tr>\n",
              "    <tr>\n",
              "      <th>1</th>\n",
              "      <td>1</td>\n",
              "      <td>85</td>\n",
              "      <td>66</td>\n",
              "      <td>29</td>\n",
              "      <td>0</td>\n",
              "      <td>26.6</td>\n",
              "      <td>0.351</td>\n",
              "      <td>31</td>\n",
              "      <td>0</td>\n",
              "    </tr>\n",
              "    <tr>\n",
              "      <th>2</th>\n",
              "      <td>8</td>\n",
              "      <td>183</td>\n",
              "      <td>64</td>\n",
              "      <td>0</td>\n",
              "      <td>0</td>\n",
              "      <td>23.3</td>\n",
              "      <td>0.672</td>\n",
              "      <td>32</td>\n",
              "      <td>1</td>\n",
              "    </tr>\n",
              "    <tr>\n",
              "      <th>3</th>\n",
              "      <td>1</td>\n",
              "      <td>89</td>\n",
              "      <td>66</td>\n",
              "      <td>23</td>\n",
              "      <td>94</td>\n",
              "      <td>28.1</td>\n",
              "      <td>0.167</td>\n",
              "      <td>21</td>\n",
              "      <td>0</td>\n",
              "    </tr>\n",
              "    <tr>\n",
              "      <th>4</th>\n",
              "      <td>0</td>\n",
              "      <td>137</td>\n",
              "      <td>40</td>\n",
              "      <td>35</td>\n",
              "      <td>168</td>\n",
              "      <td>43.1</td>\n",
              "      <td>2.288</td>\n",
              "      <td>33</td>\n",
              "      <td>1</td>\n",
              "    </tr>\n",
              "  </tbody>\n",
              "</table>\n",
              "</div>"
            ],
            "text/plain": [
              "   Pregnancies  Glucose  BloodPressure  SkinThickness  Insulin   BMI  \\\n",
              "0            6      148             72             35        0  33.6   \n",
              "1            1       85             66             29        0  26.6   \n",
              "2            8      183             64              0        0  23.3   \n",
              "3            1       89             66             23       94  28.1   \n",
              "4            0      137             40             35      168  43.1   \n",
              "\n",
              "   DiabetesPedigreeFunction  Age  Outcome  \n",
              "0                     0.627   50        1  \n",
              "1                     0.351   31        0  \n",
              "2                     0.672   32        1  \n",
              "3                     0.167   21        0  \n",
              "4                     2.288   33        1  "
            ]
          },
          "metadata": {
            "tags": []
          },
          "execution_count": 82
        }
      ]
    },
    {
      "metadata": {
        "id": "WFj09yugjJgK",
        "colab_type": "code",
        "colab": {}
      },
      "cell_type": "code",
      "source": [
        "features = dataset.drop([\"Outcome\"], axis=1)\n",
        "X = np.array(features)\n",
        "y = np.array(dataset[\"Outcome\"])"
      ],
      "execution_count": 0,
      "outputs": []
    },
    {
      "metadata": {
        "id": "P79rVqjs0X-O",
        "colab_type": "code",
        "colab": {
          "base_uri": "https://localhost:8080/",
          "height": 115
        },
        "outputId": "17085c8d-cc2f-4644-b771-c19bc98ba24e"
      },
      "cell_type": "code",
      "source": [
        "X[:3] #las primeras tres filas"
      ],
      "execution_count": 84,
      "outputs": [
        {
          "output_type": "execute_result",
          "data": {
            "text/plain": [
              "array([[  6.   , 148.   ,  72.   ,  35.   ,   0.   ,  33.6  ,   0.627,\n",
              "         50.   ],\n",
              "       [  1.   ,  85.   ,  66.   ,  29.   ,   0.   ,  26.6  ,   0.351,\n",
              "         31.   ],\n",
              "       [  8.   , 183.   ,  64.   ,   0.   ,   0.   ,  23.3  ,   0.672,\n",
              "         32.   ]])"
            ]
          },
          "metadata": {
            "tags": []
          },
          "execution_count": 84
        }
      ]
    },
    {
      "metadata": {
        "id": "-s7raBWF0kNu",
        "colab_type": "code",
        "colab": {
          "base_uri": "https://localhost:8080/",
          "height": 33
        },
        "outputId": "11e027de-5578-4262-9346-bebfbc020af7"
      },
      "cell_type": "code",
      "source": [
        "y[:3] # las primeras tres clases"
      ],
      "execution_count": 85,
      "outputs": [
        {
          "output_type": "execute_result",
          "data": {
            "text/plain": [
              "array([1, 0, 1])"
            ]
          },
          "metadata": {
            "tags": []
          },
          "execution_count": 85
        }
      ]
    },
    {
      "metadata": {
        "id": "6A8IANTtbYmz",
        "colab_type": "code",
        "colab": {}
      },
      "cell_type": "code",
      "source": [
        "X = (X - np.min(X)) / (np.max(X) - np.min(X))"
      ],
      "execution_count": 0,
      "outputs": []
    },
    {
      "metadata": {
        "id": "4xXR7rGZ0uQH",
        "colab_type": "code",
        "colab": {
          "base_uri": "https://localhost:8080/",
          "height": 115
        },
        "outputId": "84756595-d9b7-45f2-d49b-d67e535b03c8"
      },
      "cell_type": "code",
      "source": [
        "X[:3] #las primeras tres filas con los datos normalizados"
      ],
      "execution_count": 87,
      "outputs": [
        {
          "output_type": "execute_result",
          "data": {
            "text/plain": [
              "array([[0.0070922 , 0.1749409 , 0.08510638, 0.04137116, 0.        ,\n",
              "        0.03971631, 0.00074113, 0.05910165],\n",
              "       [0.00118203, 0.10047281, 0.07801418, 0.03427896, 0.        ,\n",
              "        0.03144208, 0.00041489, 0.03664303],\n",
              "       [0.00945626, 0.21631206, 0.07565012, 0.        , 0.        ,\n",
              "        0.02754137, 0.00079433, 0.03782506]])"
            ]
          },
          "metadata": {
            "tags": []
          },
          "execution_count": 87
        }
      ]
    },
    {
      "metadata": {
        "id": "QOktkuMqcGa1",
        "colab_type": "code",
        "colab": {
          "base_uri": "https://localhost:8080/",
          "height": 33
        },
        "outputId": "4922a72c-271c-43f6-b504-4837987a90d0"
      },
      "cell_type": "code",
      "source": [
        "X.shape"
      ],
      "execution_count": 48,
      "outputs": [
        {
          "output_type": "execute_result",
          "data": {
            "text/plain": [
              "(768, 8)"
            ]
          },
          "metadata": {
            "tags": []
          },
          "execution_count": 48
        }
      ]
    },
    {
      "metadata": {
        "id": "4o-CiETrbbNi",
        "colab_type": "code",
        "colab": {}
      },
      "cell_type": "code",
      "source": [
        "def sigmoid(z):\n",
        "   return 1 / (1 + np.exp(-z))"
      ],
      "execution_count": 0,
      "outputs": []
    },
    {
      "metadata": {
        "id": "yfT_I5_LcWmZ",
        "colab_type": "code",
        "colab": {}
      },
      "cell_type": "code",
      "source": [
        "def forward_propagation(W, b, X, y):\n",
        "  data_number = X.shape[0]\n",
        "  Z = np.dot(W, X.T) + b\n",
        "  A = sigmoid(Z)\n",
        "  \n",
        "  cost = (- 1 / data_number) * np.sum(y * np.log(A) + (1 - y) * (np.log(1 - A)))\n",
        "  \n",
        "  return A, cost"
      ],
      "execution_count": 0,
      "outputs": []
    },
    {
      "metadata": {
        "id": "DJ25FAxIdgHZ",
        "colab_type": "code",
        "colab": {}
      },
      "cell_type": "code",
      "source": [
        "def backward_propagation(X, A, y):\n",
        "  data_number = X.shape[0]\n",
        "  dW = (1 / data_number) * np.dot((A - y), X)\n",
        "  db = (1 / data_number) * np.sum(A - y)\n",
        "  \n",
        "  return dW, db"
      ],
      "execution_count": 0,
      "outputs": []
    },
    {
      "metadata": {
        "id": "I4YzrOjido5V",
        "colab_type": "code",
        "colab": {}
      },
      "cell_type": "code",
      "source": [
        "def optimize(W, b, X, y, num_iterations, learning_rate):\n",
        "  costs = []\n",
        "  \n",
        "  for i in range(num_iterations):\n",
        "    A, cost = forward_propagation(W, b, X, y)\n",
        "    dW, db = backward_propagation(X, A, y)\n",
        "    \n",
        "    W = W - learning_rate * dW\n",
        "    b = b - learning_rate * db\n",
        "    \n",
        "    if i % 100 == 0:\n",
        "      costs.append(cost)\n",
        "      print (\"Costo e iteracion %i: %f\" % (i, cost))\n",
        "    \n",
        "  params = {\n",
        "    \"W\": W,\n",
        "    \"b\": b\n",
        "  }\n",
        "    \n",
        "  gradients = {\n",
        "    \"dW\": dW,\n",
        "    \"db\": db\n",
        "  }\n",
        "    \n",
        "  return params, gradients, costs"
      ],
      "execution_count": 0,
      "outputs": []
    },
    {
      "metadata": {
        "id": "Kj_LTvNhe1hj",
        "colab_type": "code",
        "colab": {}
      },
      "cell_type": "code",
      "source": [
        "def predict(W, b, X):\n",
        "  data_number = X.shape[0]\n",
        "  y_prediction = np.zeros((1, data_number))\n",
        "  \n",
        "  Z = np.dot(W, X.T) + b\n",
        "  A = sigmoid(Z)\n",
        "    \n",
        "  for i in range(A.shape[1]):\n",
        "    y_prediction[0, i] = 1 if A[0, i] > 0.5 else 0\n",
        "   \n",
        "  return y_prediction"
      ],
      "execution_count": 0,
      "outputs": []
    },
    {
      "metadata": {
        "id": "HJhL9e21fg_i",
        "colab_type": "code",
        "colab": {}
      },
      "cell_type": "code",
      "source": [
        "def model(X_train, y_train, X_val, Y_val, num_iterations=2000, learning_rate=0.5):\n",
        "  dimensions = X.shape[1]\n",
        "  W = np.zeros(shape=(1, dimensions))\n",
        "  b = 0\n",
        "  \n",
        "  params, gradients, costs = optimize(W, b, X_train, y_train, num_iterations, learning_rate)\n",
        "\n",
        "  W = params[\"W\"]\n",
        "  b = params[\"b\"]\n",
        "\n",
        "  y_prediction_validation = predict(W, b, X_val)\n",
        "  y_prediction_train = predict(W, b, X_train)\n",
        "\n",
        "  print(\"train accuracy: {} %\".format(100 - np.mean(np.abs(y_prediction_train - y_train)) * 100))\n",
        "  print(\"test accuracy: {} %\".format(100 - np.mean(np.abs(y_prediction_validation - y_val)) * 100))"
      ],
      "execution_count": 0,
      "outputs": []
    },
    {
      "metadata": {
        "id": "ehX_5AVdg-LE",
        "colab_type": "code",
        "colab": {}
      },
      "cell_type": "code",
      "source": [
        "X_train, X_val, y_train, y_val = train_test_split(X, y, random_state=0, test_size=0.20)"
      ],
      "execution_count": 0,
      "outputs": []
    },
    {
      "metadata": {
        "id": "j4xarWBbgxzu",
        "colab_type": "code",
        "colab": {
          "base_uri": "https://localhost:8080/",
          "height": 212
        },
        "outputId": "353fd594-ce22-4c06-e0a1-8660cbdd9e82"
      },
      "cell_type": "code",
      "source": [
        "model(X_train, y_train, X_val, y_val, num_iterations = 1000, learning_rate = 0.003)"
      ],
      "execution_count": 82,
      "outputs": [
        {
          "output_type": "stream",
          "text": [
            "Costo e iteracion 0: 0.693147\n",
            "Costo e iteracion 100: 0.687603\n",
            "Costo e iteracion 200: 0.682854\n",
            "Costo e iteracion 300: 0.678784\n",
            "Costo e iteracion 400: 0.675295\n",
            "Costo e iteracion 500: 0.672302\n",
            "Costo e iteracion 600: 0.669732\n",
            "Costo e iteracion 700: 0.667524\n",
            "Costo e iteracion 800: 0.665626\n",
            "Costo e iteracion 900: 0.663992\n",
            "train accuracy: 64.00651465798046 %\n",
            "test accuracy: 69.48051948051949 %\n"
          ],
          "name": "stdout"
        }
      ]
    }
  ]
}