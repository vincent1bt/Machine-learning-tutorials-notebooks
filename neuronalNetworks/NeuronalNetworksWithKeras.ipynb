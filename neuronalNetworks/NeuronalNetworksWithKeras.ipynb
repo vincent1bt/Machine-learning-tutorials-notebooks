{
  "nbformat": 4,
  "nbformat_minor": 0,
  "metadata": {
    "colab": {
      "name": "NeuronalNwetworksWithKeras.ipynb",
      "version": "0.3.2",
      "provenance": [],
      "collapsed_sections": []
    },
    "kernelspec": {
      "name": "python3",
      "display_name": "Python 3"
    },
    "accelerator": "GPU"
  },
  "cells": [
    {
      "metadata": {
        "id": "VG8KMnw1NSqD",
        "colab_type": "code",
        "outputId": "9ddd0a6e-0e61-4982-c323-67e490cfebf2",
        "colab": {
          "base_uri": "https://localhost:8080/",
          "height": 34
        }
      },
      "cell_type": "code",
      "source": [
        "import numpy as np\n",
        "import os\n",
        "import shutil\n",
        "from keras.preprocessing.image import load_img, img_to_array\n",
        "from keras.utils import to_categorical\n",
        "\n",
        "from keras.models import Sequential\n",
        "from keras.layers import Dense, Activation\n",
        "\n",
        "from matplotlib import pyplot as plt\n",
        "\n",
        "from numpy.random import seed\n",
        "import tensorflow as tf\n",
        "from keras import backend as k\n",
        "import os"
      ],
      "execution_count": 1,
      "outputs": [
        {
          "output_type": "stream",
          "text": [
            "Using TensorFlow backend.\n"
          ],
          "name": "stderr"
        }
      ]
    },
    {
      "metadata": {
        "id": "PBDb1J6CozWX",
        "colab_type": "text"
      },
      "cell_type": "markdown",
      "source": [
        "## Obteniendo las imagenes"
      ]
    },
    {
      "metadata": {
        "id": "rRRTa3oYDmiJ",
        "colab_type": "code",
        "outputId": "a19d1635-2224-47e0-9a79-43db9c423d9e",
        "colab": {
          "base_uri": "https://localhost:8080/",
          "height": 294
        }
      },
      "cell_type": "code",
      "source": [
        "!wget https://github.com/vincent1bt/tesla-cars-dataset/archive/master.zip"
      ],
      "execution_count": 2,
      "outputs": [
        {
          "output_type": "stream",
          "text": [
            "--2018-11-02 00:18:15--  https://github.com/vincent1bt/tesla-cars-dataset/archive/master.zip\n",
            "Resolving github.com (github.com)... 192.30.255.113, 192.30.255.112\n",
            "Connecting to github.com (github.com)|192.30.255.113|:443... connected.\n",
            "HTTP request sent, awaiting response... 302 Found\n",
            "Location: https://codeload.github.com/vincent1bt/tesla-cars-dataset/zip/master [following]\n",
            "--2018-11-02 00:18:16--  https://codeload.github.com/vincent1bt/tesla-cars-dataset/zip/master\n",
            "Resolving codeload.github.com (codeload.github.com)... 192.30.255.121, 192.30.255.120\n",
            "Connecting to codeload.github.com (codeload.github.com)|192.30.255.121|:443... connected.\n",
            "HTTP request sent, awaiting response... 200 OK\n",
            "Length: unspecified [application/zip]\n",
            "Saving to: ‘master.zip’\n",
            "\n",
            "master.zip              [ <=>                ] 188.48M  22.5MB/s    in 8.8s    \n",
            "\n",
            "2018-11-02 00:18:25 (21.4 MB/s) - ‘master.zip’ saved [197632877]\n",
            "\n"
          ],
          "name": "stdout"
        }
      ]
    },
    {
      "metadata": {
        "id": "rCk125NXYbKv",
        "colab_type": "code",
        "colab": {}
      },
      "cell_type": "code",
      "source": [
        "!unzip -qq master.zip"
      ],
      "execution_count": 0,
      "outputs": []
    },
    {
      "metadata": {
        "id": "AVuElBkyYppO",
        "colab_type": "code",
        "colab": {}
      },
      "cell_type": "code",
      "source": [
        "!mkdir -p validation_images/tesla_model_3 && mkdir validation_images/tesla_model_s && mkdir validation_images/tesla_model_x"
      ],
      "execution_count": 0,
      "outputs": []
    },
    {
      "metadata": {
        "id": "dk3JLzQ3h10y",
        "colab_type": "code",
        "colab": {}
      },
      "cell_type": "code",
      "source": [
        "validation_set_size = 30"
      ],
      "execution_count": 0,
      "outputs": []
    },
    {
      "metadata": {
        "id": "WwfPNiZYh-CA",
        "colab_type": "code",
        "colab": {}
      },
      "cell_type": "code",
      "source": [
        "def move_images(from_path, to_path):\n",
        "  files = os.listdir(from_path)\n",
        "  folder_size = len(files)\n",
        "  first_index = folder_size - validation_set_size\n",
        "  files_to_move = files[first_index:]\n",
        "  \n",
        "  for file_name in files_to_move:\n",
        "    source_file_name = from_path + file_name\n",
        "    destination_file_name = to_path + file_name\n",
        "    shutil.move(source_file_name, destination_file_name)"
      ],
      "execution_count": 0,
      "outputs": []
    },
    {
      "metadata": {
        "id": "FmCYCsArj8r2",
        "colab_type": "code",
        "colab": {}
      },
      "cell_type": "code",
      "source": [
        "move_images(\"./tesla-cars-dataset-master/tesla-model-3/\", \"./validation_images/tesla_model_3/\")\n",
        "move_images(\"./tesla-cars-dataset-master/tesla-model-s/\", \"./validation_images/tesla_model_s/\")\n",
        "move_images(\"./tesla-cars-dataset-master/tesla-model-x/\", \"./validation_images/tesla_model_x/\")"
      ],
      "execution_count": 0,
      "outputs": []
    },
    {
      "metadata": {
        "id": "4_ekhtoAnDKm",
        "colab_type": "code",
        "colab": {}
      },
      "cell_type": "code",
      "source": [
        "!mv tesla-cars-dataset-master training_images"
      ],
      "execution_count": 0,
      "outputs": []
    },
    {
      "metadata": {
        "id": "yfi7Cv4_nkCv",
        "colab_type": "code",
        "colab": {}
      },
      "cell_type": "code",
      "source": [
        "!mv training_images/tesla-model-3 training_images/tesla_model_3\n",
        "!mv training_images/tesla-model-s training_images/tesla_model_s\n",
        "!mv training_images/tesla-model-x training_images/tesla_model_x"
      ],
      "execution_count": 0,
      "outputs": []
    },
    {
      "metadata": {
        "id": "zWfuyZkHnQYy",
        "colab_type": "code",
        "outputId": "503b1e62-6110-4b95-f231-b6fbf7bd2c1c",
        "colab": {
          "base_uri": "https://localhost:8080/",
          "height": 34
        }
      },
      "cell_type": "code",
      "source": [
        "!ls training_images"
      ],
      "execution_count": 10,
      "outputs": [
        {
          "output_type": "stream",
          "text": [
            "tesla_model_3  tesla_model_s  tesla_model_x\n"
          ],
          "name": "stdout"
        }
      ]
    },
    {
      "metadata": {
        "id": "4xM6h6EAo-G2",
        "colab_type": "code",
        "outputId": "d6c8feee-9d50-4656-ccf7-3d6e2af7acdd",
        "colab": {
          "base_uri": "https://localhost:8080/",
          "height": 34
        }
      },
      "cell_type": "code",
      "source": [
        "!ls"
      ],
      "execution_count": 11,
      "outputs": [
        {
          "output_type": "stream",
          "text": [
            "master.zip  sample_data  training_images  validation_images\n"
          ],
          "name": "stdout"
        }
      ]
    },
    {
      "metadata": {
        "id": "9l1wFVY3o2u0",
        "colab_type": "text"
      },
      "cell_type": "markdown",
      "source": [
        "## Preprocesar las imagenes"
      ]
    },
    {
      "metadata": {
        "id": "qZJS4I2uccxc",
        "colab_type": "code",
        "colab": {}
      },
      "cell_type": "code",
      "source": [
        "img_height = 64\n",
        "img_width = 64\n",
        "\n",
        "def load_images(paths):\n",
        "  X = []\n",
        "  y = []\n",
        "  \n",
        "  for path in paths:\n",
        "    images_paths = os.listdir(path)\n",
        "    \n",
        "    for image_path in images_paths:\n",
        "      complete_path = path + image_path\n",
        "      image = load_img(complete_path, target_size=(img_height, img_width))\n",
        "      image_array = img_to_array(image)\n",
        "      X.append(image_array)\n",
        "      label = paths.index(path)\n",
        "      y.append(label)\n",
        "  \n",
        "  return X, y"
      ],
      "execution_count": 0,
      "outputs": []
    },
    {
      "metadata": {
        "id": "7Ye6KPhIgldA",
        "colab_type": "code",
        "colab": {}
      },
      "cell_type": "code",
      "source": [
        "training_paths = [\"training_images/tesla_model_3/\", \"training_images/tesla_model_s/\", \"training_images/tesla_model_x/\"]\n",
        "validation_paths = [\"validation_images/tesla_model_3/\", \"validation_images/tesla_model_s/\", \"validation_images/tesla_model_x/\"]"
      ],
      "execution_count": 0,
      "outputs": []
    },
    {
      "metadata": {
        "id": "CNV33bBlcnvz",
        "colab_type": "code",
        "outputId": "04a47fbd-cfcc-440f-bab5-b6f8ec9ccd66",
        "colab": {
          "base_uri": "https://localhost:8080/",
          "height": 52
        }
      },
      "cell_type": "code",
      "source": [
        "X_train, y_train = load_images(training_paths)\n",
        "X_val, y_val = load_images(validation_paths)"
      ],
      "execution_count": 14,
      "outputs": [
        {
          "output_type": "stream",
          "text": [
            "/usr/local/lib/python3.6/dist-packages/PIL/Image.py:872: UserWarning: Palette images with Transparency   expressed in bytes should be converted to RGBA images\n",
            "  'to RGBA images')\n"
          ],
          "name": "stderr"
        }
      ]
    },
    {
      "metadata": {
        "id": "8F1mc8ZZdouT",
        "colab_type": "code",
        "colab": {}
      },
      "cell_type": "code",
      "source": [
        "X_train = np.array(X_train)\n",
        "X_val = np.array(X_val)\n",
        "\n",
        "y_train = np.array(y_train)\n",
        "y_val = np.array(y_val)"
      ],
      "execution_count": 0,
      "outputs": []
    },
    {
      "metadata": {
        "id": "CGiGfX7jjmwc",
        "colab_type": "code",
        "outputId": "cc30d95d-9559-4a5c-ca58-a2f17d00690a",
        "colab": {
          "base_uri": "https://localhost:8080/",
          "height": 34
        }
      },
      "cell_type": "code",
      "source": [
        "X_train.shape, X_val.shape"
      ],
      "execution_count": 16,
      "outputs": [
        {
          "output_type": "execute_result",
          "data": {
            "text/plain": [
              "((356, 64, 64, 3), (90, 64, 64, 3))"
            ]
          },
          "metadata": {
            "tags": []
          },
          "execution_count": 16
        }
      ]
    },
    {
      "metadata": {
        "id": "cJVb71UXjyBO",
        "colab_type": "code",
        "outputId": "e748c7c7-e827-4d6a-e696-8a56533729c7",
        "colab": {
          "base_uri": "https://localhost:8080/",
          "height": 34
        }
      },
      "cell_type": "code",
      "source": [
        "y_train.shape, y_val.shape"
      ],
      "execution_count": 17,
      "outputs": [
        {
          "output_type": "execute_result",
          "data": {
            "text/plain": [
              "((356,), (90,))"
            ]
          },
          "metadata": {
            "tags": []
          },
          "execution_count": 17
        }
      ]
    },
    {
      "metadata": {
        "id": "B7Zsgzv6kQ8a",
        "colab_type": "code",
        "colab": {}
      },
      "cell_type": "code",
      "source": [
        "y_train = to_categorical(y_train)\n",
        "y_val = to_categorical(y_val)"
      ],
      "execution_count": 0,
      "outputs": []
    },
    {
      "metadata": {
        "id": "cBsUi05AmLkt",
        "colab_type": "code",
        "outputId": "5a88be9c-db47-4f63-f6fe-62669e9dd017",
        "colab": {
          "base_uri": "https://localhost:8080/",
          "height": 34
        }
      },
      "cell_type": "code",
      "source": [
        "y_train.shape, y_val.shape"
      ],
      "execution_count": 19,
      "outputs": [
        {
          "output_type": "execute_result",
          "data": {
            "text/plain": [
              "((356, 3), (90, 3))"
            ]
          },
          "metadata": {
            "tags": []
          },
          "execution_count": 19
        }
      ]
    },
    {
      "metadata": {
        "id": "bCQu0AT_ncvG",
        "colab_type": "code",
        "colab": {}
      },
      "cell_type": "code",
      "source": [
        "X_train = X_train.astype('float32') / 255\n",
        "X_val = X_val.astype('float32') / 255"
      ],
      "execution_count": 0,
      "outputs": []
    },
    {
      "metadata": {
        "id": "VeAglh04nvQW",
        "colab_type": "code",
        "colab": {}
      },
      "cell_type": "code",
      "source": [
        "second_shape = 64 * 64 * 3"
      ],
      "execution_count": 0,
      "outputs": []
    },
    {
      "metadata": {
        "id": "h7YdB5lNmO61",
        "colab_type": "code",
        "colab": {}
      },
      "cell_type": "code",
      "source": [
        "X_train = X_train.reshape(X_train.shape[0], second_shape)\n",
        "X_val = X_val.reshape(X_val.shape[0], second_shape)"
      ],
      "execution_count": 0,
      "outputs": []
    },
    {
      "metadata": {
        "id": "Tcgvqw9rnSH0",
        "colab_type": "code",
        "outputId": "661d1364-76e1-4ef7-dcaf-f8ecb276bef2",
        "colab": {
          "base_uri": "https://localhost:8080/",
          "height": 34
        }
      },
      "cell_type": "code",
      "source": [
        "X_train.shape, X_val.shape"
      ],
      "execution_count": 23,
      "outputs": [
        {
          "output_type": "execute_result",
          "data": {
            "text/plain": [
              "((356, 12288), (90, 12288))"
            ]
          },
          "metadata": {
            "tags": []
          },
          "execution_count": 23
        }
      ]
    },
    {
      "metadata": {
        "id": "odB2c5FYnfre",
        "colab_type": "code",
        "colab": {}
      },
      "cell_type": "code",
      "source": [
        "model = Sequential()\n",
        "model.add(Dense(units=64, input_shape=(12288,)))\n",
        "model.add(Activation('relu'))\n",
        "model.add(Dense(units=32))\n",
        "model.add(Activation('relu'))\n",
        "model.add(Dense(units=3, activation=\"softmax\"))"
      ],
      "execution_count": 0,
      "outputs": []
    },
    {
      "metadata": {
        "id": "BNZDRUbyptiu",
        "colab_type": "code",
        "outputId": "d12592a4-63da-4d62-9b3a-635dbe20fd84",
        "colab": {
          "base_uri": "https://localhost:8080/",
          "height": 312
        }
      },
      "cell_type": "code",
      "source": [
        "model.summary()"
      ],
      "execution_count": 33,
      "outputs": [
        {
          "output_type": "stream",
          "text": [
            "_________________________________________________________________\n",
            "Layer (type)                 Output Shape              Param #   \n",
            "=================================================================\n",
            "dense_4 (Dense)              (None, 64)                786496    \n",
            "_________________________________________________________________\n",
            "activation_3 (Activation)    (None, 64)                0         \n",
            "_________________________________________________________________\n",
            "dense_5 (Dense)              (None, 32)                2080      \n",
            "_________________________________________________________________\n",
            "activation_4 (Activation)    (None, 32)                0         \n",
            "_________________________________________________________________\n",
            "dense_6 (Dense)              (None, 3)                 99        \n",
            "=================================================================\n",
            "Total params: 788,675\n",
            "Trainable params: 788,675\n",
            "Non-trainable params: 0\n",
            "_________________________________________________________________\n"
          ],
          "name": "stdout"
        }
      ]
    },
    {
      "metadata": {
        "id": "QZpBEdBGpWiq",
        "colab_type": "code",
        "colab": {}
      },
      "cell_type": "code",
      "source": [
        "model.compile(optimizer='adam', loss='categorical_crossentropy', metrics=['accuracy'])"
      ],
      "execution_count": 0,
      "outputs": []
    },
    {
      "metadata": {
        "id": "tpdfFessqOUL",
        "colab_type": "code",
        "colab": {}
      },
      "cell_type": "code",
      "source": [
        "epochs = 10\n",
        "batch_size = 32"
      ],
      "execution_count": 0,
      "outputs": []
    },
    {
      "metadata": {
        "id": "aqojMybrpol7",
        "colab_type": "code",
        "outputId": "01fef2b6-ea13-46c4-cca6-de28f1db7d8f",
        "colab": {
          "base_uri": "https://localhost:8080/",
          "height": 381
        }
      },
      "cell_type": "code",
      "source": [
        "model_train = model.fit(X_train, y_train, batch_size=batch_size, epochs=epochs, verbose=1, validation_data=(X_val, y_val))"
      ],
      "execution_count": 37,
      "outputs": [
        {
          "output_type": "stream",
          "text": [
            "Train on 356 samples, validate on 90 samples\n",
            "Epoch 1/10\n",
            "356/356 [==============================] - 0s 312us/step - loss: 0.7978 - acc: 0.6545 - val_loss: 1.1649 - val_acc: 0.3667\n",
            "Epoch 2/10\n",
            "356/356 [==============================] - 0s 278us/step - loss: 0.8469 - acc: 0.6011 - val_loss: 1.3855 - val_acc: 0.4222\n",
            "Epoch 3/10\n",
            "356/356 [==============================] - 0s 274us/step - loss: 0.9369 - acc: 0.5787 - val_loss: 1.4823 - val_acc: 0.3556\n",
            "Epoch 4/10\n",
            "356/356 [==============================] - 0s 256us/step - loss: 0.9227 - acc: 0.5843 - val_loss: 1.2405 - val_acc: 0.3889\n",
            "Epoch 5/10\n",
            "356/356 [==============================] - 0s 282us/step - loss: 0.9933 - acc: 0.5478 - val_loss: 1.3135 - val_acc: 0.4444\n",
            "Epoch 6/10\n",
            "356/356 [==============================] - 0s 279us/step - loss: 0.9345 - acc: 0.5955 - val_loss: 1.5068 - val_acc: 0.4000\n",
            "Epoch 7/10\n",
            "356/356 [==============================] - 0s 266us/step - loss: 0.9140 - acc: 0.5787 - val_loss: 1.1604 - val_acc: 0.4778\n",
            "Epoch 8/10\n",
            "356/356 [==============================] - 0s 301us/step - loss: 0.8785 - acc: 0.6096 - val_loss: 1.1919 - val_acc: 0.4222\n",
            "Epoch 9/10\n",
            "356/356 [==============================] - 0s 271us/step - loss: 0.6228 - acc: 0.7809 - val_loss: 1.1673 - val_acc: 0.4333\n",
            "Epoch 10/10\n",
            "356/356 [==============================] - 0s 320us/step - loss: 0.5851 - acc: 0.8230 - val_loss: 1.1123 - val_acc: 0.4111\n"
          ],
          "name": "stdout"
        }
      ]
    },
    {
      "metadata": {
        "id": "Uc0272H74XmL",
        "colab_type": "code",
        "colab": {
          "base_uri": "https://localhost:8080/",
          "height": 52
        },
        "outputId": "8fb8db5f-de13-435d-b588-3c20f3829069"
      },
      "cell_type": "code",
      "source": [
        "np.arange(epochs, step=1)"
      ],
      "execution_count": 53,
      "outputs": [
        {
          "output_type": "execute_result",
          "data": {
            "text/plain": [
              "array([ 0,  1,  2,  3,  4,  5,  6,  7,  8,  9, 10, 11, 12, 13, 14, 15, 16,\n",
              "       17, 18, 19])"
            ]
          },
          "metadata": {
            "tags": []
          },
          "execution_count": 53
        }
      ]
    },
    {
      "metadata": {
        "id": "yUUL9hBHqiM2",
        "colab_type": "code",
        "colab": {}
      },
      "cell_type": "code",
      "source": [
        "def plot_loss_and_accuracy(model_train):\n",
        "  accuracy = model_train.history['acc']\n",
        "  val_accuracy = model_train.history['val_acc']\n",
        "  loss = model_train.history['loss']\n",
        "  val_loss = model_train.history['val_loss']\n",
        "  epochs = range(len(accuracy))\n",
        "  plt.plot(epochs, accuracy, 'b', label='Training accuracy')\n",
        "  plt.plot(epochs, val_accuracy, 'r', label='Validation accuracy')\n",
        "  plt.ylim(ymin=0)\n",
        "  plt.ylim(ymax=1)\n",
        "  plt.xlabel('Epochs ', fontsize=16)\n",
        "  plt.ylabel('Accuracity', fontsize=16)\n",
        "  plt.title('Training and validation accuracy', fontsize = 20)\n",
        "  plt.legend()\n",
        "  plt.figure()\n",
        "  plt.plot(epochs, loss, 'b', label='Training loss')\n",
        "  plt.plot(epochs, val_loss, 'r', label='Validation loss')\n",
        "  plt.xlabel('Epochs ', fontsize=16)\n",
        "  plt.ylabel('Loss', fontsize=16)\n",
        "  plt.title('Training and validation loss', fontsize= 20)\n",
        "  plt.legend()\n",
        "  plt.show()"
      ],
      "execution_count": 0,
      "outputs": []
    },
    {
      "metadata": {
        "id": "jLH5fnmwrGbI",
        "colab_type": "code",
        "outputId": "397f45fc-e5c0-43ce-8611-d269737b827e",
        "colab": {
          "base_uri": "https://localhost:8080/",
          "height": 758
        }
      },
      "cell_type": "code",
      "source": [
        "plot_loss_and_accuracy(model_train)"
      ],
      "execution_count": 30,
      "outputs": [
        {
          "output_type": "display_data",
          "data": {
            "image/png": "[encoded data removed]",
            "text/plain": [
              "<matplotlib.figure.Figure at 0x7fbf73e6e1d0>"
            ]
          },
          "metadata": {
            "tags": []
          }
        },
        {
          "output_type": "display_data",
          "data": {
            "image/png": "[encoded data removed]",
            "text/plain": [
              "<matplotlib.figure.Figure at 0x7fbf73e49898>"
            ]
          },
          "metadata": {
            "tags": []
          }
        }
      ]
    },
    {
      "metadata": {
        "id": "R2tBff6IrIEZ",
        "colab_type": "code",
        "outputId": "4c91cc33-4e64-4bcb-e9ee-00986be7449f",
        "colab": {
          "base_uri": "https://localhost:8080/",
          "height": 52
        }
      },
      "cell_type": "code",
      "source": [
        "validation_acc = model_train.history['val_acc'][-1] * 100\n",
        "training_acc = model_train.history['acc'][-1] * 100\n",
        "print(\"Validation accuracy: {}%\\nTraining Accuracy: {}%\".format(validation_acc, training_acc))"
      ],
      "execution_count": 38,
      "outputs": [
        {
          "output_type": "stream",
          "text": [
            "Validation accuracy: 41.11111111111111%\n",
            "Training Accuracy: 82.30337078651685%\n"
          ],
          "name": "stdout"
        }
      ]
    },
    {
      "metadata": {
        "id": "MguAJAUY0Hvc",
        "colab_type": "text"
      },
      "cell_type": "markdown",
      "source": [
        "## Segundo modelo"
      ]
    },
    {
      "metadata": {
        "id": "TJIVyUAY0Xgt",
        "colab_type": "code",
        "colab": {}
      },
      "cell_type": "code",
      "source": [
        "from keras import regularizers"
      ],
      "execution_count": 0,
      "outputs": []
    },
    {
      "metadata": {
        "id": "xZgKT49YikRg",
        "colab_type": "code",
        "colab": {}
      },
      "cell_type": "code",
      "source": [
        "second_model = Sequential()\n",
        "second_model.add(Dense(units=16, input_shape=(12288,)))\n",
        "second_model.add(Activation('relu'))\n",
        "second_model.add(Dense(units=32))\n",
        "second_model.add(Activation('relu'))\n",
        "second_model.add(Dense(units=64))\n",
        "second_model.add(Activation('relu'))\n",
        "second_model.add(Dense(units=3, activation=\"softmax\"))"
      ],
      "execution_count": 0,
      "outputs": []
    },
    {
      "metadata": {
        "id": "J3sFKfRm2B0_",
        "colab_type": "code",
        "colab": {}
      },
      "cell_type": "code",
      "source": [
        "second_model.compile(optimizer='adam', loss='categorical_crossentropy', metrics=['accuracy'])"
      ],
      "execution_count": 0,
      "outputs": []
    },
    {
      "metadata": {
        "id": "R0c7yIVE3BCQ",
        "colab_type": "code",
        "colab": {}
      },
      "cell_type": "code",
      "source": [
        "epochs = 10\n",
        "batch_size = 32"
      ],
      "execution_count": 0,
      "outputs": []
    },
    {
      "metadata": {
        "id": "6L504AyK2nI5",
        "colab_type": "code",
        "colab": {
          "base_uri": "https://localhost:8080/",
          "height": 381
        },
        "outputId": "1730726a-2f04-44d1-a4e6-21d5a345abca"
      },
      "cell_type": "code",
      "source": [
        "second_model_train = second_model.fit(X_train, y_train, batch_size=batch_size, epochs=epochs, verbose=1, validation_data=(X_val, y_val))"
      ],
      "execution_count": 234,
      "outputs": [
        {
          "output_type": "stream",
          "text": [
            "Train on 356 samples, validate on 90 samples\n",
            "Epoch 1/10\n",
            "356/356 [==============================] - 2s 4ms/step - loss: 1.4237 - acc: 0.3792 - val_loss: 1.1118 - val_acc: 0.4111\n",
            "Epoch 2/10\n",
            "356/356 [==============================] - 0s 263us/step - loss: 1.1014 - acc: 0.3343 - val_loss: 1.1263 - val_acc: 0.3556\n",
            "Epoch 3/10\n",
            "356/356 [==============================] - 0s 263us/step - loss: 1.1044 - acc: 0.3624 - val_loss: 1.1032 - val_acc: 0.3667\n",
            "Epoch 4/10\n",
            "356/356 [==============================] - 0s 259us/step - loss: 1.0761 - acc: 0.4073 - val_loss: 1.1082 - val_acc: 0.3111\n",
            "Epoch 5/10\n",
            "356/356 [==============================] - 0s 267us/step - loss: 1.0311 - acc: 0.4803 - val_loss: 1.0865 - val_acc: 0.4333\n",
            "Epoch 6/10\n",
            "356/356 [==============================] - 0s 287us/step - loss: 0.9946 - acc: 0.5225 - val_loss: 1.0990 - val_acc: 0.3889\n",
            "Epoch 7/10\n",
            "356/356 [==============================] - 0s 292us/step - loss: 0.9904 - acc: 0.5056 - val_loss: 1.0881 - val_acc: 0.3778\n",
            "Epoch 8/10\n",
            "356/356 [==============================] - 0s 282us/step - loss: 0.9337 - acc: 0.5421 - val_loss: 1.1477 - val_acc: 0.4444\n",
            "Epoch 9/10\n",
            "356/356 [==============================] - 0s 279us/step - loss: 0.9095 - acc: 0.5702 - val_loss: 1.2298 - val_acc: 0.3667\n",
            "Epoch 10/10\n",
            "356/356 [==============================] - 0s 278us/step - loss: 0.9554 - acc: 0.5281 - val_loss: 1.0509 - val_acc: 0.4667\n"
          ],
          "name": "stdout"
        }
      ]
    },
    {
      "metadata": {
        "id": "6TPqNvBk2rxL",
        "colab_type": "code",
        "colab": {
          "base_uri": "https://localhost:8080/",
          "height": 758
        },
        "outputId": "47dbcf48-b668-4386-88e4-6b3c9cb94a72"
      },
      "cell_type": "code",
      "source": [
        "plot_loss_and_accuracy(second_model_train)"
      ],
      "execution_count": 235,
      "outputs": [
        {
          "output_type": "display_data",
          "data": {
            "image/png": "[encoded data removed]",
            "text/plain": [
              "<matplotlib.figure.Figure at 0x7fbf5be67438>"
            ]
          },
          "metadata": {
            "tags": []
          }
        },
        {
          "output_type": "display_data",
          "data": {
            "image/png": "[encoded data removed]",
            "text/plain": [
              "<matplotlib.figure.Figure at 0x7fbf5f29eb38>"
            ]
          },
          "metadata": {
            "tags": []
          }
        }
      ]
    },
    {
      "metadata": {
        "id": "FtDSLtM426kU",
        "colab_type": "code",
        "colab": {
          "base_uri": "https://localhost:8080/",
          "height": 52
        },
        "outputId": "cacf35cd-85ec-4085-f839-4f8dea032daf"
      },
      "cell_type": "code",
      "source": [
        "validation_acc = second_model_train.history['val_acc'][-1] * 100\n",
        "training_acc = second_model_train.history['acc'][-1] * 100\n",
        "print(\"Validation accuracy: {}%\\nTraining Accuracy: {}%\".format(validation_acc, training_acc))"
      ],
      "execution_count": 236,
      "outputs": [
        {
          "output_type": "stream",
          "text": [
            "Validation accuracy: 46.66666673289405%\n",
            "Training Accuracy: 52.80898876404494%\n"
          ],
          "name": "stdout"
        }
      ]
    },
    {
      "metadata": {
        "id": "UWMSqecXBpLx",
        "colab_type": "code",
        "colab": {}
      },
      "cell_type": "code",
      "source": [
        "second_model.save('tesla_model_46_52.h5')"
      ],
      "execution_count": 0,
      "outputs": []
    },
    {
      "metadata": {
        "id": "JclpBKGXGMEr",
        "colab_type": "text"
      },
      "cell_type": "markdown",
      "source": [
        "## Cargar imagenes externas "
      ]
    },
    {
      "metadata": {
        "id": "Kycwl2AOGPNR",
        "colab_type": "code",
        "colab": {
          "base_uri": "https://localhost:8080/",
          "height": 208
        },
        "outputId": "093c6e19-5105-42a2-a989-2d9fb7866c8d"
      },
      "cell_type": "code",
      "source": [
        "! wget https://static.urbantecno.com/2018/08/Tesla-Model-3-4-720x550.jpg"
      ],
      "execution_count": 177,
      "outputs": [
        {
          "output_type": "stream",
          "text": [
            "--2018-11-02 01:46:08--  https://static.urbantecno.com/2018/08/Tesla-Model-3-4-720x550.jpg\n",
            "Resolving static.urbantecno.com (static.urbantecno.com)... 198.50.181.89\n",
            "Connecting to static.urbantecno.com (static.urbantecno.com)|198.50.181.89|:443... connected.\n",
            "HTTP request sent, awaiting response... 200 OK\n",
            "Length: 65769 (64K) [image/jpeg]\n",
            "Saving to: ‘Tesla-Model-3-4-720x550.jpg’\n",
            "\n",
            "Tesla-Model-3-4-720 100%[===================>]  64.23K  --.-KB/s    in 0.08s   \n",
            "\n",
            "2018-11-02 01:46:09 (854 KB/s) - ‘Tesla-Model-3-4-720x550.jpg’ saved [65769/65769]\n",
            "\n"
          ],
          "name": "stdout"
        }
      ]
    },
    {
      "metadata": {
        "id": "hErLjk43GVVB",
        "colab_type": "code",
        "colab": {
          "base_uri": "https://localhost:8080/",
          "height": 208
        },
        "outputId": "f99ed4ad-56ac-4ca0-f2a4-696ef58b870b"
      },
      "cell_type": "code",
      "source": [
        "! wget https://www.autonavigator.hu/wp-content/uploads/2014/01/109102_source-2.jpg"
      ],
      "execution_count": 178,
      "outputs": [
        {
          "output_type": "stream",
          "text": [
            "--2018-11-02 01:46:39--  https://www.autonavigator.hu/wp-content/uploads/2014/01/109102_source-2.jpg\n",
            "Resolving www.autonavigator.hu (www.autonavigator.hu)... 194.33.69.21\n",
            "Connecting to www.autonavigator.hu (www.autonavigator.hu)|194.33.69.21|:443... connected.\n",
            "HTTP request sent, awaiting response... 200 OK\n",
            "Length: 1028573 (1004K) [image/jpeg]\n",
            "Saving to: ‘109102_source-2.jpg’\n",
            "\n",
            "109102_source-2.jpg 100%[===================>]   1004K  1.20MB/s    in 0.8s    \n",
            "\n",
            "2018-11-02 01:46:41 (1.20 MB/s) - ‘109102_source-2.jpg’ saved [1028573/1028573]\n",
            "\n"
          ],
          "name": "stdout"
        }
      ]
    },
    {
      "metadata": {
        "id": "F59Xs9e9Gc9K",
        "colab_type": "code",
        "colab": {
          "base_uri": "https://localhost:8080/",
          "height": 208
        },
        "outputId": "ef0e5511-d4ae-421c-fe49-e2a97cd33dd8"
      },
      "cell_type": "code",
      "source": [
        "! wget https://upload.wikimedia.org/wikipedia/commons/9/92/2017_Tesla_Model_X_100D_Front.jpg"
      ],
      "execution_count": 179,
      "outputs": [
        {
          "output_type": "stream",
          "text": [
            "--2018-11-02 01:46:48--  https://upload.wikimedia.org/wikipedia/commons/9/92/2017_Tesla_Model_X_100D_Front.jpg\n",
            "Resolving upload.wikimedia.org (upload.wikimedia.org)... 198.35.26.112, 2620:0:863:ed1a::2:b\n",
            "Connecting to upload.wikimedia.org (upload.wikimedia.org)|198.35.26.112|:443... connected.\n",
            "HTTP request sent, awaiting response... 200 OK\n",
            "Length: 4768386 (4.5M) [image/jpeg]\n",
            "Saving to: ‘2017_Tesla_Model_X_100D_Front.jpg’\n",
            "\n",
            "2017_Tesla_Model_X_ 100%[===================>]   4.55M  19.3MB/s    in 0.2s    \n",
            "\n",
            "2018-11-02 01:46:49 (19.3 MB/s) - ‘2017_Tesla_Model_X_100D_Front.jpg’ saved [4768386/4768386]\n",
            "\n"
          ],
          "name": "stdout"
        }
      ]
    },
    {
      "metadata": {
        "id": "S2fox-e6GfNZ",
        "colab_type": "code",
        "colab": {
          "base_uri": "https://localhost:8080/",
          "height": 86
        },
        "outputId": "be9a123a-2cfd-4fa7-9819-1bbd224f315e"
      },
      "cell_type": "code",
      "source": [
        "!ls"
      ],
      "execution_count": 180,
      "outputs": [
        {
          "output_type": "stream",
          "text": [
            "109102_source-2.jpg\t\t   Tesla-Model-3-4-720x550.jpg\n",
            "2017_Tesla_Model_X_100D_Front.jpg  tesla_model_46_56.h5\n",
            "master.zip\t\t\t   training_images\n",
            "sample_data\t\t\t   validation_images\n"
          ],
          "name": "stdout"
        }
      ]
    },
    {
      "metadata": {
        "id": "-BiITWwiGhWC",
        "colab_type": "code",
        "colab": {}
      },
      "cell_type": "code",
      "source": [
        "X = []\n",
        "\n",
        "image = load_img(\"./Tesla-Model-3-4-720x550.jpg\", target_size=(img_height, img_width))\n",
        "image_array = img_to_array(image)\n",
        "X.append(image_array)\n",
        "\n",
        "image = load_img(\"./109102_source-2.jpg\", target_size=(img_height, img_width))\n",
        "image_array = img_to_array(image)\n",
        "X.append(image_array)\n",
        "\n",
        "image = load_img(\"./2017_Tesla_Model_X_100D_Front.jpg\", target_size=(img_height, img_width))\n",
        "image_array = img_to_array(image)\n",
        "X.append(image_array)\n",
        "\n",
        "X_test = np.array(X)"
      ],
      "execution_count": 0,
      "outputs": []
    },
    {
      "metadata": {
        "id": "OqbygitXGzyc",
        "colab_type": "code",
        "colab": {
          "base_uri": "https://localhost:8080/",
          "height": 34
        },
        "outputId": "2ae3b554-a7f2-4855-e6fa-933181a72999"
      },
      "cell_type": "code",
      "source": [
        "X_test.shape"
      ],
      "execution_count": 185,
      "outputs": [
        {
          "output_type": "execute_result",
          "data": {
            "text/plain": [
              "(3, 64, 64, 3)"
            ]
          },
          "metadata": {
            "tags": []
          },
          "execution_count": 185
        }
      ]
    },
    {
      "metadata": {
        "id": "ZvceAn2dHT9H",
        "colab_type": "code",
        "colab": {}
      },
      "cell_type": "code",
      "source": [
        "X_test = X_test.astype('float32') / 255\n",
        "X_test = X_test.reshape(X_test.shape[0], second_shape)"
      ],
      "execution_count": 0,
      "outputs": []
    },
    {
      "metadata": {
        "id": "T2_IHV2nHgiY",
        "colab_type": "code",
        "colab": {
          "base_uri": "https://localhost:8080/",
          "height": 34
        },
        "outputId": "a808939a-7960-46d1-8ede-c9d1ef36d483"
      },
      "cell_type": "code",
      "source": [
        "X_test.shape"
      ],
      "execution_count": 238,
      "outputs": [
        {
          "output_type": "execute_result",
          "data": {
            "text/plain": [
              "(3, 12288)"
            ]
          },
          "metadata": {
            "tags": []
          },
          "execution_count": 238
        }
      ]
    },
    {
      "metadata": {
        "id": "Ap3Acct5IbMH",
        "colab_type": "code",
        "colab": {}
      },
      "cell_type": "code",
      "source": [
        "y_true = [[1, 0, 0], [0, 1, 0], [0, 0, 1]]"
      ],
      "execution_count": 0,
      "outputs": []
    },
    {
      "metadata": {
        "id": "YDJXSZqEHhKm",
        "colab_type": "code",
        "colab": {
          "base_uri": "https://localhost:8080/",
          "height": 34
        },
        "outputId": "187448a2-7df1-41b8-c1cf-a17c1f2ac432"
      },
      "cell_type": "code",
      "source": [
        "y_pred = second_model.predict(X_test, batch_size=None, verbose=1, steps=None)"
      ],
      "execution_count": 243,
      "outputs": [
        {
          "output_type": "stream",
          "text": [
            "\r3/3 [==============================] - 0s 3ms/step\n"
          ],
          "name": "stdout"
        }
      ]
    },
    {
      "metadata": {
        "id": "xHCEjxeVIAhz",
        "colab_type": "code",
        "colab": {
          "base_uri": "https://localhost:8080/",
          "height": 69
        },
        "outputId": "40075398-9bda-4882-abdf-1955d1fa712c"
      },
      "cell_type": "code",
      "source": [
        "y_pred"
      ],
      "execution_count": 244,
      "outputs": [
        {
          "output_type": "execute_result",
          "data": {
            "text/plain": [
              "array([[0.22741655, 0.4156091 , 0.35697436],\n",
              "       [0.583717  , 0.3267301 , 0.08955295],\n",
              "       [0.35106906, 0.5099873 , 0.13894367]], dtype=float32)"
            ]
          },
          "metadata": {
            "tags": []
          },
          "execution_count": 244
        }
      ]
    },
    {
      "metadata": {
        "id": "5ieAgSZaITZk",
        "colab_type": "code",
        "colab": {
          "base_uri": "https://localhost:8080/",
          "height": 34
        },
        "outputId": "d53b1f62-785d-4c0d-aadd-d249c827b266"
      },
      "cell_type": "code",
      "source": [
        "np.argmax(y_true, axis=1)"
      ],
      "execution_count": 242,
      "outputs": [
        {
          "output_type": "execute_result",
          "data": {
            "text/plain": [
              "array([0, 1, 2])"
            ]
          },
          "metadata": {
            "tags": []
          },
          "execution_count": 242
        }
      ]
    },
    {
      "metadata": {
        "id": "8WLPm3V-JGgB",
        "colab_type": "code",
        "colab": {
          "base_uri": "https://localhost:8080/",
          "height": 34
        },
        "outputId": "6770ce2b-bfbc-4e50-d92c-7e6786672f86"
      },
      "cell_type": "code",
      "source": [
        "np.argmax(y_pred, axis=1)"
      ],
      "execution_count": 245,
      "outputs": [
        {
          "output_type": "execute_result",
          "data": {
            "text/plain": [
              "array([1, 0, 1])"
            ]
          },
          "metadata": {
            "tags": []
          },
          "execution_count": 245
        }
      ]
    },
    {
      "metadata": {
        "id": "-38b1PIjNWB2",
        "colab_type": "code",
        "colab": {}
      },
      "cell_type": "code",
      "source": [
        ""
      ],
      "execution_count": 0,
      "outputs": []
    }
  ]
}